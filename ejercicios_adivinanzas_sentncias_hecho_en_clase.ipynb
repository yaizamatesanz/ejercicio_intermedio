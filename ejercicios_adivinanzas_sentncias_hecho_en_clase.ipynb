{
 "cells": [
  {
   "cell_type": "markdown",
   "metadata": {},
   "source": [
    "Ejercicio3:JuegodeAdivinanza o Genera un número aleatorio entre 1 y 100. o Pídele al usuario que adivine el número. o Si el usuario adivina correctamente en el primer intento, muestra \"¡Ganaste en el primer intento!\". o Si el usuario no adivina en el primer intento, bríndale pistas (mayor o menor) y permite que intente nuevamente. Muestra cuántos intentos le llevó al final."
   ]
  },
  {
   "cell_type": "code",
   "execution_count": 1,
   "metadata": {},
   "outputs": [
    {
     "name": "stdout",
     "output_type": "stream",
     "text": [
      "¡Bienvenida al juego de adivinanzas!\n",
      "Estoy pensando en un número entre el 1 y el 10. Dime cuál crees que es <3\n"
     ]
    }
   ],
   "source": [
    "import random\n",
    "\n",
    "num_aleatorio = random.randint(1,10)\n",
    "\n",
    "contador_intentos = 0\n",
    "\n",
    "print(\"¡Bienvenida al juego de adivinanzas!\")\n",
    "\n",
    "print(\"Estoy pensando en un número entre el 1 y el 10. Dime cuál crees que es <3\")\n",
    "\n",
    "while True:\n",
    "\n",
    "    contador_intentos += 1\n",
    "    prediccion = int(input(\"Piensa en un número del 1 al 10\"))\n",
    "\n",
    "    if prediccion == num_aleatorio:\n",
    "        if contador_intentos ==1:\n",
    "            print(\"¡Ganaste en el primer intento!\")\n",
    "        else:\n",
    "            print(f\"¡Genial! Lo adivinaste en {contador_intentos} intentos.\")\n",
    "        break\n",
    "    elif prediccion < num_aleatorio:\n",
    "        print(\"El número es mayor. ¡Intentalo de nuevo!\")\n",
    "    else:\n",
    "        print(\"El número en menor, ¡prueba de nuevo!\")\n",
    "\n"
   ]
  },
  {
   "cell_type": "markdown",
   "metadata": {},
   "source": [
    "Ejercicio 4: Juego de Adivinar la Palabra o Elige una palabra secreta y ocúltala utilizando asteriscos, por ejemplo, \"secreto\" se muestra como \"*******\".\n",
    "o Permite al usuario adivinar letras una por una.\n",
    "o Si la letra adivinada está en la palabra secreta, muestra la palabra con las letras descubiertas y los asteriscos.\n",
    "o Si la letra no está en la palabra secreta, resta una vida al jugador.\n",
    "o El juego continúa hasta que el jugador adivine la palabra."
   ]
  },
  {
   "cell_type": "code",
   "execution_count": 7,
   "metadata": {},
   "outputs": [
    {
     "name": "stdout",
     "output_type": "stream",
     "text": [
      "¡La letra m está en la palabra!\n"
     ]
    }
   ],
   "source": [
    "pal_secreta = \"maravilloso\"\n",
    "\n",
    "pal_oculta = \"*\" * len(pal_secreta)\n",
    "\n",
    "letras_acertadas = []\n",
    "\n",
    "while len(letras_acertadas) != len(pal_secreta):\n",
    "\n",
    "    letra = input(\"¡Empieza el juego! Dimer una letra para ver si está dentro de la palabra secreta.\")\n",
    "    if letra in pal_secreta:\n",
    "        print(f\"¡La letra {letra} está en la palabra!\")\n",
    "        letras_acertadas.append(letra)\n",
    "    else:\n",
    "        print(f\"¡La letra {letra} no está en la palabra!\")\n",
    "print(f\"La palabra adivinada es: {' '.join(letras_acertadas)}\")\n"
   ]
  },
  {
   "cell_type": "code",
   "execution_count": null,
   "metadata": {},
   "outputs": [],
   "source": []
  }
 ],
 "metadata": {
  "kernelspec": {
   "display_name": "base",
   "language": "python",
   "name": "python3"
  },
  "language_info": {
   "codemirror_mode": {
    "name": "ipython",
    "version": 3
   },
   "file_extension": ".py",
   "mimetype": "text/x-python",
   "name": "python",
   "nbconvert_exporter": "python",
   "pygments_lexer": "ipython3",
   "version": "3.11.7"
  }
 },
 "nbformat": 4,
 "nbformat_minor": 2
}
